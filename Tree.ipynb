{
 "cells": [
  {
   "cell_type": "code",
   "execution_count": 1,
   "metadata": {},
   "outputs": [],
   "source": [
    "import os\n",
    "import numpy as np\n",
    "import pandas as pd\n",
    "from sklearn.model_selection import train_test_split\n",
    "from sklearn import svm\n",
    "from sklearn.ensemble import RandomForestClassifier\n",
    "from sklearn.linear_model import LogisticRegression\n",
    "from sklearn import tree"
   ]
  },
  {
   "cell_type": "code",
   "execution_count": 2,
   "metadata": {},
   "outputs": [],
   "source": [
    "df=pd.read_excel('stringaprobo.xlsx')"
   ]
  },
  {
   "cell_type": "code",
   "execution_count": 3,
   "metadata": {},
   "outputs": [],
   "source": [
    "df1=df.drop(columns=['carrera','legajo','cantidad_idiomas'])"
   ]
  },
  {
   "cell_type": "code",
   "execution_count": 4,
   "metadata": {},
   "outputs": [],
   "source": [
    "inputs = pd.get_dummies(df1, columns=['nombre_carrera', 'ingreso', 'sexo', 'pais_procedencia',\n",
    "       'prov_procedencia', 'edad', 'estado_civil', 'cant_hijos', 'vive_con',\n",
    "       'tiene_beca', 'aporte_familiar', 'obra_social', 'trabajo', 'padre_vive',\n",
    "       'padre_ult_est_curs', 'padre_trabajo', 'madre_vive',\n",
    "       'madre_ult_est_curs', 'madre_trabajo', 'dep_practica', 'idioma_ingles',\n",
    "       'idioma_franc', 'idioma_portu', 'idioma_itali', 'idioma_aleman'])\n"
   ]
  },
  {
   "cell_type": "code",
   "execution_count": 5,
   "metadata": {},
   "outputs": [],
   "source": [
    "target=np.array(inputs['fechaapro_matematica_al_21-10-2017'])\n",
    "inputs=inputs.drop(columns=['matcursprisem','fechaapro_matematica_al_21-10-2017', \n",
    "                            'cantmataprob_al_21-10-2017','promedio_con_aplaz_al_21-10-2017', \n",
    "                            'promedio_sin_aplaz_al_21-10-2017'])"
   ]
  },
  {
   "cell_type": "code",
   "execution_count": 6,
   "metadata": {},
   "outputs": [],
   "source": [
    "inputs_list=list(inputs.columns)\n",
    "inputs=np.array(inputs)"
   ]
  },
  {
   "cell_type": "code",
   "execution_count": 7,
   "metadata": {},
   "outputs": [],
   "source": [
    "from sklearn.model_selection import train_test_split\n",
    "\n",
    "train_inputs, test_inputs, train_target, test_target = train_test_split(inputs, target, test_size = 0.2, random_state = 42)"
   ]
  },
  {
   "cell_type": "code",
   "execution_count": 8,
   "metadata": {},
   "outputs": [
    {
     "name": "stdout",
     "output_type": "stream",
     "text": [
      "Training Features Shape: (1896, 132)\n",
      "Training Labels Shape: (1896,)\n",
      "Testing Features Shape: (474, 132)\n",
      "Testing Labels Shape: (474,)\n"
     ]
    }
   ],
   "source": [
    "print('Training Features Shape:', train_inputs.shape)\n",
    "print('Training Labels Shape:', train_target.shape)\n",
    "print('Testing Features Shape:', test_inputs.shape)\n",
    "print('Testing Labels Shape:', test_target.shape)"
   ]
  },
  {
   "cell_type": "code",
   "execution_count": 83,
   "metadata": {},
   "outputs": [
    {
     "data": {
      "text/plain": [
       "DecisionTreeClassifier(class_weight=None, criterion='gini', max_depth=None,\n",
       "                       max_features=None, max_leaf_nodes=None,\n",
       "                       min_impurity_decrease=0.0, min_impurity_split=None,\n",
       "                       min_samples_leaf=1, min_samples_split=2,\n",
       "                       min_weight_fraction_leaf=0.0, presort=False,\n",
       "                       random_state=None, splitter='best')"
      ]
     },
     "execution_count": 83,
     "metadata": {},
     "output_type": "execute_result"
    }
   ],
   "source": [
    "from sklearn import tree\n",
    "Tree=tree.DecisionTreeClassifier()\n",
    "Tree.fit(train_inputs, train_target)"
   ]
  },
  {
   "cell_type": "code",
   "execution_count": 10,
   "metadata": {},
   "outputs": [],
   "source": [
    "y_pred = tree.predict(test_inputs)"
   ]
  },
  {
   "cell_type": "code",
   "execution_count": 11,
   "metadata": {},
   "outputs": [
    {
     "data": {
      "text/plain": [
       "array([[204, 109],\n",
       "       [ 73,  88]], dtype=int64)"
      ]
     },
     "execution_count": 11,
     "metadata": {},
     "output_type": "execute_result"
    }
   ],
   "source": [
    "from sklearn.metrics import confusion_matrix\n",
    "cm=confusion_matrix(test_target, y_pred)\n",
    "cm"
   ]
  },
  {
   "cell_type": "code",
   "execution_count": 12,
   "metadata": {},
   "outputs": [],
   "source": [
    "from sklearn.metrics import accuracy_score\n",
    "accuracy=accuracy_score(test_target, y_pred)"
   ]
  },
  {
   "cell_type": "code",
   "execution_count": 13,
   "metadata": {},
   "outputs": [
    {
     "data": {
      "text/plain": [
       "0.6160337552742616"
      ]
     },
     "execution_count": 13,
     "metadata": {},
     "output_type": "execute_result"
    }
   ],
   "source": [
    "accuracy"
   ]
  },
  {
   "cell_type": "code",
   "execution_count": 60,
   "metadata": {},
   "outputs": [],
   "source": [
    "model_params={\n",
    "    'tree':{\n",
    "        'model':tree,\n",
    "        'params':{\n",
    "            'min_samples_split':[10,50,100],\n",
    "            'min_samples_leaf':[10,50,100],\n",
    "            'max_depth': [5,10],\n",
    "            'criterion':['gini','entropy'],\n",
    "            'class_weight':[{1:1}, {1:2.7}]}\n",
    "        }\n",
    "     }"
   ]
  },
  {
   "cell_type": "code",
   "execution_count": 109,
   "metadata": {},
   "outputs": [],
   "source": [
    "from sklearn.model_selection import GridSearchCV\n",
    "score=[]\n",
    "\n",
    "for model_name, mp in model_params.items():\n",
    "    clf=GridSearchCV(mp['model'],mp['params'],cv=5, return_train_score=False)\n",
    "    \n",
    "    clf.fit(train_inputs, train_target)\n",
    "    \n",
    "    score.append({\n",
    "        'model':model_name,\n",
    "        'best_score': clf.best_score_,\n",
    "        'best_params': clf.best_params_\n",
    "    })"
   ]
  },
  {
   "cell_type": "code",
   "execution_count": 62,
   "metadata": {},
   "outputs": [],
   "source": [
    "df=pd.DataFrame(score,columns=['model','best_score','best_params'])"
   ]
  },
  {
   "cell_type": "code",
   "execution_count": 63,
   "metadata": {},
   "outputs": [],
   "source": [
    "df.to_excel('arbolbest.xls')"
   ]
  },
  {
   "cell_type": "code",
   "execution_count": 64,
   "metadata": {},
   "outputs": [],
   "source": [
    "from sklearn.metrics import accuracy_score\n",
    "from sklearn.metrics import confusion_matrix\n",
    "from sklearn.metrics import f1_score"
   ]
  },
  {
   "cell_type": "code",
   "execution_count": 65,
   "metadata": {},
   "outputs": [],
   "source": [
    "predictions = clf.predict(test_inputs)"
   ]
  },
  {
   "cell_type": "code",
   "execution_count": 66,
   "metadata": {},
   "outputs": [
    {
     "data": {
      "text/plain": [
       "0.7447257383966245"
      ]
     },
     "execution_count": 66,
     "metadata": {},
     "output_type": "execute_result"
    }
   ],
   "source": [
    "accuracy_score(test_target, predictions)"
   ]
  },
  {
   "cell_type": "code",
   "execution_count": 67,
   "metadata": {},
   "outputs": [
    {
     "data": {
      "text/plain": [
       "array([[271,  42],\n",
       "       [ 79,  82]], dtype=int64)"
      ]
     },
     "execution_count": 67,
     "metadata": {},
     "output_type": "execute_result"
    }
   ],
   "source": [
    "cm=confusion_matrix(test_target, predictions)\n",
    "cm"
   ]
  },
  {
   "cell_type": "code",
   "execution_count": 68,
   "metadata": {},
   "outputs": [
    {
     "data": {
      "text/plain": [
       "Text(24.0, 0.5, 'Target')"
      ]
     },
     "execution_count": 68,
     "metadata": {},
     "output_type": "execute_result"
    },
    {
     "data": {
      "image/png": "[encoded data removed]",
      "text/plain": [
       "<Figure size 360x360 with 1 Axes>"
      ]
     },
     "metadata": {
      "needs_background": "light"
     },
     "output_type": "display_data"
    }
   ],
   "source": [
    "import matplotlib.pyplot as plt\n",
    "import seaborn as sn\n",
    "# convert the ndarray to a pandas dataframe\n",
    "cm_df = pd.DataFrame(cm)\n",
    "# set the size of the figure\n",
    "plt.figure(figsize = (5,5))\n",
    "sn.heatmap(cm_df, \n",
    "           annot=True, annot_kws={\"size\": 25},\n",
    "           fmt=\"d\",         # decimals format\n",
    "           xticklabels=True, \n",
    "           yticklabels=True,\n",
    "           cmap=\"viridis\", \n",
    "           cbar=False)\n",
    "plt.xlabel('Prediccion')\n",
    "plt.ylabel('Target')"
   ]
  },
  {
   "cell_type": "code",
   "execution_count": 71,
   "metadata": {},
   "outputs": [
    {
     "name": "stdout",
     "output_type": "stream",
     "text": [
      "Number of true positives  (tp) =  271\n",
      "Number of true negatives  (tn) =  82\n",
      "Number of false positives (fp) =  79\n",
      "Number of false negatives (fn) =  42\n",
      "Precision                                          = tp / (tp + fp) = 0.7742857142857142\n",
      "Recall or 'sensitivity' (aka. true positive rate)  = tp / (tp + fn) = 0.865814696485623\n",
      "Specificity             (aka. true negative rate)  = tn / (tn + fp) = 0.5093167701863354\n",
      "Fall out                (aka. false positive rate) = fp / (fp + tn) = 0.4906832298136646\n",
      "Miss rate               (aka. false negative rate) = fn / (fn + tp) = 0.134185303514377\n"
     ]
    }
   ],
   "source": [
    "tp, fn, fp, tn = confusion_matrix(test_target , predictions).ravel()\n",
    "print(\"Number of true positives  (tp) = \",tp)\n",
    "print(\"Number of true negatives  (tn) = \",tn)\n",
    "\n",
    "print(\"Number of false positives (fp) = \",fp)\n",
    "print(\"Number of false negatives (fn) = \",fn)\n",
    "\n",
    "print(\"Precision                                          = tp / (tp + fp) =\", tp / (tp + fp))\n",
    "print(\"Recall or 'sensitivity' (aka. true positive rate)  = tp / (tp + fn) =\", tp / (tp + fn))\n",
    "print(\"Specificity             (aka. true negative rate)  = tn / (tn + fp) =\", tn / (tn + fp))\n",
    "print(\"Fall out                (aka. false positive rate) = fp / (fp + tn) =\", fp / (fp + tn))\n",
    "print(\"Miss rate               (aka. false negative rate) = fn / (fn + tp) =\", fn / (fn + tp))"
   ]
  },
  {
   "cell_type": "code",
   "execution_count": 72,
   "metadata": {},
   "outputs": [
    {
     "name": "stdout",
     "output_type": "stream",
     "text": [
      "AUC =  0.6875657333359791\n"
     ]
    },
    {
     "data": {
      "image/png": "[encoded data removed]",
      "text/plain": [
       "<Figure size 576x360 with 1 Axes>"
      ]
     },
     "metadata": {
      "needs_background": "light"
     },
     "output_type": "display_data"
    }
   ],
   "source": [
    "from sklearn.metrics import roc_curve\n",
    "fpr, tpr, thresholds = roc_curve(test_target , predictions)\n",
    "\n",
    "from sklearn.metrics import roc_auc_score\n",
    "roc_auc = roc_auc_score(test_target , predictions)\n",
    "print(\"AUC = \", roc_auc)\n",
    "\n",
    "plt.figure(figsize = (8,5))\n",
    "plt.plot(fpr, tpr, color='darkorange', lw=2, label='ROC curve (AUC = %0.5f)' % roc_auc)\n",
    "plt.plot([0, 1], [0, 1], color='navy', lw=2, linestyle='--')\n",
    "plt.xlim([0.0, 1.0])\n",
    "plt.ylim([0.0, 1.0])\n",
    "plt.xlabel('False Positive Rate')\n",
    "plt.ylabel('True Positive Rate')\n",
    "plt.title('Receiver Operating Characteristic curve')\n",
    "plt.legend(loc=\"lower right\")\n",
    "plt.show()"
   ]
  },
  {
   "cell_type": "code",
   "execution_count": 73,
   "metadata": {},
   "outputs": [
    {
     "data": {
      "text/plain": [
       "0.575438596491228"
      ]
     },
     "execution_count": 73,
     "metadata": {},
     "output_type": "execute_result"
    }
   ],
   "source": [
    "f1_score(test_target , predictions)"
   ]
  },
  {
   "cell_type": "code",
   "execution_count": 75,
   "metadata": {},
   "outputs": [
    {
     "name": "stdout",
     "output_type": "stream",
     "text": [
      "Variable: aporte_familiar_sin ayuda familiar Importance: 0.42\n",
      "Variable: madre_ult_est_curs_univesitario-superior Importance: 0.13\n",
      "Variable: edad_21              Importance: 0.12\n",
      "Variable: edad_20              Importance: 0.09\n",
      "Variable: nombre_carrera_Ciencias Biológicas Importance: 0.08\n",
      "Variable: edad_22              Importance: 0.05\n",
      "Variable: madre_ult_est_curs_secundario Importance: 0.04\n",
      "Variable: padre_ult_est_curs_primario Importance: 0.02\n",
      "Variable: madre_trabajo_desconoce Importance: 0.02\n",
      "Variable: idioma_ingles_bueno-muy bueno Importance: 0.02\n",
      "Variable: padre_ult_est_curs_secundario Importance: 0.01\n",
      "Variable: idioma_ingles_basico-desonoce Importance: 0.01\n",
      "Variable: nombre_carrera_Ciencias Geológicas Importance: 0.0\n",
      "Variable: nombre_carrera_Constructor Importance: 0.0\n",
      "Variable: nombre_carrera_Ingeniería Aeronáutica Importance: 0.0\n",
      "Variable: nombre_carrera_Ingeniería Ambiental Importance: 0.0\n",
      "Variable: nombre_carrera_Ingeniería Biomédica Importance: 0.0\n",
      "Variable: nombre_carrera_Ingeniería Civil Importance: 0.0\n",
      "Variable: nombre_carrera_Ingeniería Electromecánica Importance: 0.0\n",
      "Variable: nombre_carrera_Ingeniería Electrónica Importance: 0.0\n",
      "Variable: nombre_carrera_Ingeniería Industrial Importance: 0.0\n",
      "Variable: nombre_carrera_Ingeniería Mecánica Importance: 0.0\n",
      "Variable: nombre_carrera_Ingeniería Mecánica Electricista Importance: 0.0\n",
      "Variable: nombre_carrera_Ingeniería Química Importance: 0.0\n",
      "Variable: nombre_carrera_Ingeniería en Agrimensura Importance: 0.0\n",
      "Variable: nombre_carrera_Ingeniería en Computación Importance: 0.0\n",
      "Variable: nombre_carrera_Profesorado en Ciencias Biológicas Importance: 0.0\n",
      "Variable: nombre_carrera_Técnico Mecánico Electricista Importance: 0.0\n",
      "Variable: ingreso_2010         Importance: 0.0\n",
      "Variable: ingreso_2012         Importance: 0.0\n",
      "Variable: ingreso_2014         Importance: 0.0\n",
      "Variable: ingreso_2015         Importance: 0.0\n",
      "Variable: ingreso_2016         Importance: 0.0\n",
      "Variable: ingreso_2017         Importance: 0.0\n",
      "Variable: ingreso_2018         Importance: 0.0\n",
      "Variable: sexo_h               Importance: 0.0\n",
      "Variable: sexo_m               Importance: 0.0\n",
      "Variable: pais_procedencia_argentina Importance: 0.0\n",
      "Variable: pais_procedencia_extranjero Importance: 0.0\n",
      "Variable: prov_procedencia_cordoba Importance: 0.0\n",
      "Variable: prov_procedencia_otra Importance: 0.0\n",
      "Variable: edad_19              Importance: 0.0\n",
      "Variable: edad_23              Importance: 0.0\n",
      "Variable: edad_24              Importance: 0.0\n",
      "Variable: edad_25              Importance: 0.0\n",
      "Variable: edad_26              Importance: 0.0\n",
      "Variable: edad_27              Importance: 0.0\n",
      "Variable: edad_28              Importance: 0.0\n",
      "Variable: edad_29              Importance: 0.0\n",
      "Variable: edad_30              Importance: 0.0\n",
      "Variable: edad_31              Importance: 0.0\n",
      "Variable: edad_32              Importance: 0.0\n",
      "Variable: edad_33              Importance: 0.0\n",
      "Variable: edad_34              Importance: 0.0\n",
      "Variable: edad_35              Importance: 0.0\n",
      "Variable: edad_36              Importance: 0.0\n",
      "Variable: edad_37              Importance: 0.0\n",
      "Variable: edad_38              Importance: 0.0\n",
      "Variable: edad_39              Importance: 0.0\n",
      "Variable: edad_40              Importance: 0.0\n",
      "Variable: edad_41              Importance: 0.0\n",
      "Variable: edad_42              Importance: 0.0\n",
      "Variable: edad_43              Importance: 0.0\n",
      "Variable: edad_44              Importance: 0.0\n",
      "Variable: edad_45              Importance: 0.0\n",
      "Variable: edad_46              Importance: 0.0\n",
      "Variable: edad_47              Importance: 0.0\n",
      "Variable: edad_48              Importance: 0.0\n",
      "Variable: edad_49              Importance: 0.0\n",
      "Variable: edad_50              Importance: 0.0\n",
      "Variable: edad_51              Importance: 0.0\n",
      "Variable: edad_52              Importance: 0.0\n",
      "Variable: edad_53              Importance: 0.0\n",
      "Variable: edad_54              Importance: 0.0\n",
      "Variable: edad_55              Importance: 0.0\n",
      "Variable: edad_56              Importance: 0.0\n",
      "Variable: edad_59              Importance: 0.0\n",
      "Variable: edad_62              Importance: 0.0\n",
      "Variable: edad_63              Importance: 0.0\n",
      "Variable: edad_64              Importance: 0.0\n",
      "Variable: edad_66              Importance: 0.0\n",
      "Variable: edad_69              Importance: 0.0\n",
      "Variable: edad_71              Importance: 0.0\n",
      "Variable: edad_78              Importance: 0.0\n",
      "Variable: edad_80              Importance: 0.0\n",
      "Variable: estado_civil_casado  Importance: 0.0\n",
      "Variable: estado_civil_divorciado Importance: 0.0\n",
      "Variable: estado_civil_separado Importance: 0.0\n",
      "Variable: estado_civil_soltero Importance: 0.0\n",
      "Variable: cant_hijos_0         Importance: 0.0\n",
      "Variable: cant_hijos_1         Importance: 0.0\n",
      "Variable: cant_hijos_2         Importance: 0.0\n",
      "Variable: cant_hijos_3         Importance: 0.0\n",
      "Variable: vive_con_compañeros  Importance: 0.0\n",
      "Variable: vive_con_familia de origen Importance: 0.0\n",
      "Variable: vive_con_otros       Importance: 0.0\n",
      "Variable: vive_con_solo        Importance: 0.0\n",
      "Variable: tiene_beca_n         Importance: 0.0\n",
      "Variable: tiene_beca_si        Importance: 0.0\n",
      "Variable: aporte_familiar_aporte familiar y otro Importance: 0.0\n",
      "Variable: aporte_familiar_se desconoce Importance: 0.0\n",
      "Variable: obra_social_no       Importance: 0.0\n",
      "Variable: obra_social_si       Importance: 0.0\n",
      "Variable: trabajo_no           Importance: 0.0\n",
      "Variable: trabajo_si           Importance: 0.0\n",
      "Variable: padre_vive_D         Importance: 0.0\n",
      "Variable: padre_vive_N         Importance: 0.0\n",
      "Variable: padre_vive_S         Importance: 0.0\n",
      "Variable: padre_ult_est_curs_desconoce Importance: 0.0\n",
      "Variable: padre_ult_est_curs_sin estudios Importance: 0.0\n",
      "Variable: padre_ult_est_curs_universitario-superior Importance: 0.0\n",
      "Variable: padre_trabajo_desconoce Importance: 0.0\n",
      "Variable: padre_trabajo_no trabaja Importance: 0.0\n",
      "Variable: padre_trabajo_trabaja Importance: 0.0\n",
      "Variable: madre_vive_D         Importance: 0.0\n",
      "Variable: madre_vive_N         Importance: 0.0\n",
      "Variable: madre_vive_S         Importance: 0.0\n",
      "Variable: madre_ult_est_curs_desconoce Importance: 0.0\n",
      "Variable: madre_ult_est_curs_primario Importance: 0.0\n",
      "Variable: madre_ult_est_curs_sin estudios Importance: 0.0\n",
      "Variable: madre_trabajo_no trabaja Importance: 0.0\n",
      "Variable: madre_trabajo_trabaja Importance: 0.0\n",
      "Variable: dep_practica_N       Importance: 0.0\n",
      "Variable: dep_practica_S       Importance: 0.0\n",
      "Variable: idioma_franc_basico-desonoce Importance: 0.0\n",
      "Variable: idioma_franc_bueno-muy bueno Importance: 0.0\n",
      "Variable: idioma_portu_basico-desonoce Importance: 0.0\n",
      "Variable: idioma_portu_bueno-muy bueno Importance: 0.0\n",
      "Variable: idioma_itali_basico-desonoce Importance: 0.0\n",
      "Variable: idioma_itali_bueno-muy bueno Importance: 0.0\n",
      "Variable: idioma_aleman_basico-desonoce Importance: 0.0\n",
      "Variable: idioma_aleman_bueno-muy bueno Importance: 0.0\n"
     ]
    }
   ],
   "source": [
    "# Get numerical feature importances\n",
    "importances = list(clf.best_estimator_.feature_importances_)\n",
    "# List of tuples with variable and importance\n",
    "feature_importances = [(feature, round(importance, 2)) for feature, importance in zip(inputs_list, importances)]\n",
    "# Sort the feature importances by most important first\n",
    "feature_importances = sorted(feature_importances, key = lambda x: x[1], reverse = True)\n",
    "# Print out the feature and importances \n",
    "[print('Variable: {:20} Importance: {}'.format(*pair)) for pair in feature_importances];"
   ]
  },
  {
   "cell_type": "code",
   "execution_count": 113,
   "metadata": {},
   "outputs": [
    {
     "data": {
      "text/plain": [
       "DecisionTreeClassifier(class_weight=None, criterion='gini', max_depth=10,\n",
       "                       max_features=None, max_leaf_nodes=None,\n",
       "                       min_impurity_decrease=0.0, min_impurity_split=None,\n",
       "                       min_samples_leaf=50, min_samples_split=10,\n",
       "                       min_weight_fraction_leaf=0.0, presort=False,\n",
       "                       random_state=None, splitter='best')"
      ]
     },
     "execution_count": 113,
     "metadata": {},
     "output_type": "execute_result"
    }
   ],
   "source": [
    "btree=tree.DecisionTreeClassifier(criterion='gini', max_depth=10, min_samples_leaf= 50, min_samples_split=10\n",
    ")\n",
    "btree.fit(train_inputs, train_target)"
   ]
  },
  {
   "cell_type": "code",
   "execution_count": 115,
   "metadata": {},
   "outputs": [],
   "source": [
    "from sklearn.externals.six import StringIO  \n",
    "from IPython.display import Image  \n",
    "from sklearn.tree import export_graphviz\n",
    "import pydotplus\n",
    "\n",
    "with open(r\"tree1.txt\", 'w') as f:\n",
    "     f = tree.export_graphviz(btree,\n",
    "                              out_file=f,\n",
    "                              #max_depth = 5,\n",
    "                              impurity = True,\n",
    "                              feature_names = list(inputs_list),\n",
    "                              #class_names= ['uno','dos','tres','cuatro','cinco','seis'],\n",
    "                              rounded = True,\n",
    "                              filled= True )"
   ]
  }
 ],
 "metadata": {
  "kernelspec": {
   "display_name": "Python 3",
   "language": "python",
   "name": "python3"
  },
  "language_info": {
   "codemirror_mode": {
    "name": "ipython",
    "version": 3
   },
   "file_extension": ".py",
   "mimetype": "text/x-python",
   "name": "python",
   "nbconvert_exporter": "python",
   "pygments_lexer": "ipython3",
   "version": "3.7.3"
  }
 },
 "nbformat": 4,
 "nbformat_minor": 2
}
